{
 "cells": [
  {
   "cell_type": "markdown",
   "metadata": {},
   "source": [
    "# Cost Report"
   ]
  },
  {
   "cell_type": "code",
   "execution_count": null,
   "metadata": {},
   "outputs": [],
   "source": [
    "# Bigquery Cost Table ID is Required \n",
    "# \"ProjectID.DatasetID.TableID\"\n",
    "# Example: \"my_project_id.my_dataset_billing_dump.gcp_billing_export_v1_000000_000000_000000\"\n",
    "input_bq_cost_table_id: str = \"\"\n"
   ]
  },
  {
   "cell_type": "markdown",
   "metadata": {},
   "source": [
    "## Import packages"
   ]
  },
  {
   "cell_type": "code",
   "execution_count": null,
   "metadata": {
    "scrolled": true
   },
   "outputs": [],
   "source": [
    "!pip install --upgrade pip\n",
    "!pip uninstall -y cromonitor\n",
    "!pip install --no-cache-dir git+https://github.com/broadinstitute/cromwell-task-monitor-bq-vis.git"
   ]
  },
  {
   "cell_type": "code",
   "execution_count": null,
   "metadata": {
    "code_folding": [
     0
    ]
   },
   "outputs": [],
   "source": [
    "import os\n",
    "import pandas as pd\n",
    "pd.set_option('display.max_rows', 200) # so we can see all df rows\n",
    "\n",
    "from cromonitor.query.cost import CostQuery\n",
    "from cromonitor.plotting.cost_plots import CostPlots\n",
    "from cromonitor.table import utils as tableUtils\n",
    "from cromonitor.jupyter import utils as jupyterUtils\n",
    "from cromonitor.fiss import utils as fissUtils \n"
   ]
  },
  {
   "cell_type": "code",
   "execution_count": null,
   "metadata": {},
   "outputs": [],
   "source": [
    "workspace_namespace = os.environ[\"WORKSPACE_NAMESPACE\"]\n",
    "workspace_name = os.environ[\"WORKSPACE_NAME\"]"
   ]
  },
  {
   "cell_type": "markdown",
   "metadata": {},
   "source": [
    "## Select Submission and Workflow "
   ]
  },
  {
   "cell_type": "code",
   "execution_count": null,
   "metadata": {
    "code_folding": [],
    "scrolled": false
   },
   "outputs": [],
   "source": [
    "###\n",
    "# Get a list of submission for the workspace\n",
    "###\n",
    "submissions_df_sorted = fissUtils.get_list_of_submissions(\n",
    "    workspace_namespace = workspace_namespace,\n",
    "        workspace_name= workspace_name,\n",
    ")\n",
    "display(submissions_df_sorted)\n",
    "print(\"Select Submission ID Below\")\n",
    "###\n",
    "# Select Submission Id\n",
    "###\n",
    "sumission_ids = submissions_df_sorted['submissionId'].tolist()\n",
    "selected_submission_id = jupyterUtils.create_submission_selector(\n",
    "options = sumission_ids\n",
    ")"
   ]
  },
  {
   "cell_type": "code",
   "execution_count": null,
   "metadata": {
    "code_folding": []
   },
   "outputs": [],
   "source": [
    "####\n",
    "# Get all the workflow ids assoccaited with the submission\n",
    "####\n",
    "workflow_id_df_sorted = fissUtils.get_submission_workflow_ids(\n",
    "        workspace_namespace=workspace_namespace,\n",
    "        workspace_name=workspace_name,\n",
    "        submission_id=selected_submission_id.value,\n",
    ")\n",
    "display(workflow_id_df_sorted)\n",
    "print(\"Select Workflow ID Below\")\n",
    "###\n",
    "# Select Workflow Id \n",
    "###\n",
    "workflow_ids = workflow_id_df_sorted['workflowId'].tolist()\n",
    "selected_workflow_id = jupyterUtils.create_workflow_selector(\n",
    "options = workflow_ids\n",
    ")"
   ]
  },
  {
   "cell_type": "code",
   "execution_count": null,
   "metadata": {},
   "outputs": [],
   "source": [
    "####\n",
    "# Create a workflow object to retrieve and store the selected workflow information\n",
    "####\n",
    "selected_workflow_info = fissUtils.Workflow(\n",
    "            workspace_namespace=workspace_namespace,\n",
    "            workspace_name=workspace_name,\n",
    "            submission_id=selected_submission_id.value,\n",
    "            parent_workflow_id=selected_workflow_id.value,\n",
    ")"
   ]
  },
  {
   "cell_type": "markdown",
   "metadata": {},
   "source": [
    "## Query BQ database"
   ]
  },
  {
   "cell_type": "code",
   "execution_count": null,
   "metadata": {},
   "outputs": [],
   "source": [
    "cost_query_job = CostQuery(\n",
    "        workflow_id=selected_workflow_info.parent_workflow_id, \n",
    "        bq_cost_table=input_bq_cost_table_id,\n",
    "        start_time=selected_workflow_info.workflow_start_time,\n",
    "        end_time=selected_workflow_info.workflow_end_time,\n",
    ")"
   ]
  },
  {
   "cell_type": "code",
   "execution_count": null,
   "metadata": {},
   "outputs": [],
   "source": [
    "# How much will it cost to run a query?\n",
    "cost_query_job.get_cost_to_query()"
   ]
  },
  {
   "cell_type": "code",
   "execution_count": null,
   "metadata": {},
   "outputs": [],
   "source": [
    "# The logic below will do one of two things. \n",
    "# 1. Query the cost of the workflow and save it locally as a pkl file,\n",
    "# 2. If it finds a pkl file in the current directory with the same workflow id it will load that file\n",
    "# as a pd dataframe. \n",
    "\n",
    "cost_report_filename = os.path.join(cost_query_job.workflow_id + '_cost_report.pkl')\n",
    "if os.path.exists(cost_report_filename):\n",
    "    print(\"Loading data from local files\")\n",
    "    cost_df = tableUtils.load_dataframe(cost_report_filename)\n",
    "else:\n",
    "    print(\"Loading data from querying BQ database\")\n",
    "    cost_query_job.query_cost()\n",
    "    cost_df = cost_query_job.results(to_dataframe=True)\n",
    "    ## Saves dataframe locally in pickle format\n",
    "    if not cost_df.empty :\n",
    "        cost_df.to_pickle(cost_report_filename)\n",
    "    else:\n",
    "        print(\"Empty Database: No Files Saved\")"
   ]
  },
  {
   "cell_type": "code",
   "execution_count": null,
   "metadata": {},
   "outputs": [],
   "source": [
    "cost_df"
   ]
  },
  {
   "cell_type": "markdown",
   "metadata": {},
   "source": [
    "## Plot Cost"
   ]
  },
  {
   "cell_type": "code",
   "execution_count": null,
   "metadata": {},
   "outputs": [],
   "source": [
    "cost_plot_obj = CostPlots(cost_df)"
   ]
  },
  {
   "cell_type": "code",
   "execution_count": null,
   "metadata": {},
   "outputs": [],
   "source": [
    "cost_plot_obj.plot_workflow_cost(group_by_description=False)"
   ]
  },
  {
   "cell_type": "code",
   "execution_count": null,
   "metadata": {
    "code_folding": []
   },
   "outputs": [],
   "source": [
    "####\n",
    "# Select task to plot\n",
    "####\n",
    "#Get an array of task names in workflow\n",
    "AllTaskNames = cost_df.task_name.unique()\n",
    "# Create the SelectMultiple widget\n",
    "task_selector = jupyterUtils.create_task_selector(AllTaskNames)"
   ]
  },
  {
   "cell_type": "code",
   "execution_count": null,
   "metadata": {},
   "outputs": [],
   "source": [
    "cost_plot_obj.plot_task_cost(task_name=task_selector.value[0], group_by_description=True)"
   ]
  },
  {
   "cell_type": "code",
   "execution_count": null,
   "metadata": {},
   "outputs": [],
   "source": []
  }
 ],
 "metadata": {
  "kernelspec": {
   "display_name": "Python 3",
   "language": "python",
   "name": "python3"
  },
  "language_info": {
   "codemirror_mode": {
    "name": "ipython",
    "version": 3
   },
   "file_extension": ".py",
   "mimetype": "text/x-python",
   "name": "python",
   "nbconvert_exporter": "python",
   "pygments_lexer": "ipython3",
   "version": "3.10.12"
  },
  "toc": {
   "base_numbering": 1,
   "nav_menu": {},
   "number_sections": true,
   "sideBar": true,
   "skip_h1_title": false,
   "title_cell": "Table of Contents",
   "title_sidebar": "Contents",
   "toc_cell": false,
   "toc_position": {},
   "toc_section_display": true,
   "toc_window_display": false
  }
 },
 "nbformat": 4,
 "nbformat_minor": 2
}
